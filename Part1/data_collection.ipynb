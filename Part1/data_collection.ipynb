{
 "cells": [
  {
   "cell_type": "code",
   "execution_count": 1,
   "metadata": {},
   "outputs": [],
   "source": [
    "import wptools\n",
    "import string\n",
    "import pandas as pd\n",
    "import numpy as np\n",
    "import wikipedia\n",
    "import requests\n",
    "import re\n",
    "from bs4 import BeautifulSoup\n",
    "import os\n",
    "\n",
    "\n",
    "PATH = './data_files'"
   ]
  },
  {
   "cell_type": "code",
   "execution_count": null,
   "metadata": {},
   "outputs": [],
   "source": [
    "def scrapper_math():\n",
    "    \"\"\" Extracts mathematicians wikipedia pages content\"\"\"\n",
    "    new_l = [] # create a dictionary    \n",
    "    abc = list(string.ascii_uppercase)\n",
    "    for letter in abc:   \n",
    "        page = requests.get(\"https://en.wikipedia.org/wiki/Wikipedia:WikiProject_Mathematics/List_of_mathematicians_({})\".format(letter)) #get the page of mathematicians with names starting from A-Z \n",
    "        soup = BeautifulSoup(page.content, 'html.parser') \n",
    "\n",
    "        # remove all links in the info table on the page\n",
    "        for div in soup.find_all(\"table\", {'class':'sidebar nomobile nowraplinks hlist'}): \n",
    "            div.decompose()\n",
    "\n",
    "        # find all portions in the HTML where the links of mathematicians are present \n",
    "        div = soup.find_all(\"div\", {'id':'mw-content-text'})\n",
    "        for i in div:\n",
    "\n",
    "          link_list = i.find_all(href = re.compile('/wiki')) # create a list with links of all mathematicians on the page\n",
    "        \n",
    "        # extract the content from the corresponding wiki pages of mathematicians using the list created previously\n",
    "        for links in link_list:\n",
    "          try:\n",
    "            page = wikipedia.page(title = re.findall('title=\"(.*)\"' , str(links))) # create a wiki page object from the list elements\n",
    "            d = {'title': page.title, 'text': str(page.content), 'category': 'mathematician'} # update a dictionary with relevant text content from the wiki page\n",
    "            new_l.append(d) #update list with new values each time\n",
    "\n",
    "            # writing the newly created files in the folder data_files\n",
    "            file_name = \"{}_{}.txt\".format(d['title'], d['category'])\n",
    "            complete_path = os.path.join(PATH, file_name)\n",
    "            with open(complete_path, \"w\", encoding= 'utf-8' ) as text_file:\n",
    "              text_file.write(page.content)\n",
    "          except Exception as e:\n",
    "              print(e)\n",
    "        df1 = pd.DataFrame(new_l) # laod the data into a pandas df\n",
    "        return df1\n",
    "\n",
    "def scrapper_paint():\n",
    "  \"\"\" Extracts painters wikipedia pages content\"\"\"\n",
    "  new_l = []   \n",
    "  abc = list(string.ascii_uppercase)\n",
    "  for letter in abc:   \n",
    "    page = requests.get(\"https://en.m.wikipedia.org/wiki/List_of_painters_by_name_beginning_with_%22{}%22\".format(letter)) #get the page of painters with names starting from A-Z \n",
    "    soup = BeautifulSoup(page.content, 'html.parser')\n",
    "\n",
    "    # find all portions in the HTML where the links of painters are present \n",
    "    div = soup.find_all(\"div\", {'class':'div-col'})\n",
    "    for i in div:\n",
    "      link_list = i.find_all(href = re.compile('/wiki')) # create a list with links of all painters on the page\n",
    "        \n",
    "        # extract the content from the corresponding wiki pages of painters using the list created previously\n",
    "    for links in link_list:\n",
    "          try:\n",
    "            page = wikipedia.page(title = re.findall('title=\"(.*)\"' ,str(links))) # create a wiki page object from the list elements\n",
    "            d = {'title': page.title, 'text': str(page.content), 'category': 'painter'} # update a dictionary with relevant text content from the wiki page\n",
    "            new_l.append(d) #update list with new values each time\n",
    "            # writing the newly created files in the folder data_files\n",
    "            file_name = \"{}_{}.txt\".format(d['title'], d['category'])\n",
    "            complete_path = os.path.join(PATH, file_name)\n",
    "            with open(complete_path, \"w\", encoding= 'utf-8' ) as text_file:\n",
    "              text_file.write(page.content)\n",
    "          except Exception as e:\n",
    "              print(e)\n",
    "    df2 = pd.DataFrame(new_l) # laod the data into a pandas df\n",
    "    return df2"
   ]
  },
  {
   "cell_type": "code",
   "execution_count": null,
   "metadata": {},
   "outputs": [],
   "source": [
    "def scrapper_wiki():\n",
    "  math_people = scrapper_math()\n",
    "  paint_people = scrapper_paint()\n",
    "  final_df = pd.concat([math_people,paint_people])\n",
    "  print(final_df)\n",
    "\n",
    "scrapper_wiki()"
   ]
  }
 ],
 "metadata": {
  "kernelspec": {
   "display_name": "Python 3.9.12 ('base')",
   "language": "python",
   "name": "python3"
  },
  "language_info": {
   "codemirror_mode": {
    "name": "ipython",
    "version": 3
   },
   "file_extension": ".py",
   "mimetype": "text/x-python",
   "name": "python",
   "nbconvert_exporter": "python",
   "pygments_lexer": "ipython3",
   "version": "3.7.16"
  },
  "orig_nbformat": 4,
  "vscode": {
   "interpreter": {
    "hash": "ad2bdc8ecc057115af97d19610ffacc2b4e99fae6737bb82f5d7fb13d2f2c186"
   }
  }
 },
 "nbformat": 4,
 "nbformat_minor": 2
}
