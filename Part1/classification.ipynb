{
 "cells": [
  {
   "cell_type": "code",
   "execution_count": 1,
   "metadata": {},
   "outputs": [],
   "source": [
    "from sklearn.feature_extraction.text import TfidfVectorizer\n",
    "import pandas as pd\n",
    "from sklearn.model_selection import train_test_split\n",
    "from sklearn.naive_bayes import MultinomialNB\n",
    "from sklearn.linear_model import LogisticRegression\n",
    "from sklearn.ensemble import RandomForestClassifier\n",
    "from sklearn.linear_model import SGDClassifier\n",
    "from sklearn.model_selection import GridSearchCV\n",
    "from sklearn.pipeline import Pipeline\n",
    "import matplotlib.pyplot as plt\n",
    "import numpy as np\n",
    "from sklearn.metrics import ConfusionMatrixDisplay\n",
    "from sklearn.utils import shuffle\n",
    "\n",
    "categories = [\n",
    "    \"mathematician\",\n",
    "    \"painter\"\n",
    "]\n",
    "DATA_FILE = \"./clean_data.csv\""
   ]
  },
  {
   "attachments": {},
   "cell_type": "markdown",
   "metadata": {},
   "source": [
    "### Class distribution"
   ]
  },
  {
   "cell_type": "code",
   "execution_count": 2,
   "metadata": {},
   "outputs": [
    {
     "data": {
      "text/plain": [
       "label\n",
       "0    460\n",
       "1    185\n",
       "Name: label, dtype: int64"
      ]
     },
     "execution_count": 2,
     "metadata": {},
     "output_type": "execute_result"
    }
   ],
   "source": [
    "df = pd.read_csv(DATA_FILE, header = 0)\n",
    "df.groupby(\"label\")[\"label\"].count()"
   ]
  },
  {
   "attachments": {},
   "cell_type": "markdown",
   "metadata": {},
   "source": [
    "Classes are unbalanced, we need to undersample our data to ensure better generalisation of our model"
   ]
  },
  {
   "cell_type": "code",
   "execution_count": 3,
   "metadata": {},
   "outputs": [],
   "source": [
    "def undersample(df):\n",
    "    maths = df[df['label']==0]\n",
    "    paints = df[df['label']==1]\n",
    "    if maths.shape[0] > paints.shape[0]:\n",
    "        maths = maths.sample(n=len(paints), random_state=101)\n",
    "    else:\n",
    "        paints = paints.sample(n=len(maths), random_state=101)\n",
    "    df = pd.concat([maths,paints],axis=0)\n",
    "    return df"
   ]
  },
  {
   "cell_type": "code",
   "execution_count": 4,
   "metadata": {},
   "outputs": [],
   "source": [
    "def load_dataset(data, undersam=True):\n",
    "    \"\"\"Loads, balances the classes dist. and vectorize the articles dataset.\"\"\"\n",
    "    df = pd.read_csv(data, header = 0)\n",
    "    if undersam:\n",
    "        df = undersample(df)\n",
    "    df = shuffle(df)\n",
    "    X_train, X_test, y_train, y_test = train_test_split(df.loc[:, df.columns != \"label\"], df[\"label\"], test_size=0.20, random_state=42, shuffle=True)\n",
    "    target_names = df[\"label\"].unique()\n",
    "    return X_train, X_test, y_train, y_test, target_names"
   ]
  },
  {
   "attachments": {},
   "cell_type": "markdown",
   "metadata": {},
   "source": [
    "### Hyperparameters tuning"
   ]
  },
  {
   "attachments": {},
   "cell_type": "markdown",
   "metadata": {},
   "source": [
    "We define a universal estimator object that can take any classifier as an input \\\n",
    "to make hyperparamters search easier (i.e the classifier will be a parameter as any other hyperparameters tuning)"
   ]
  },
  {
   "cell_type": "code",
   "execution_count": 5,
   "metadata": {},
   "outputs": [],
   "source": [
    "from sklearn.base import BaseEstimator\n",
    "\n",
    "class UniversalEstimator(BaseEstimator):\n",
    "    def __init__(\n",
    "        self, \n",
    "        estimator = MultinomialNB(),\n",
    "    ):\n",
    "        \"\"\"\n",
    "        A Custom BaseEstimator, universal to all sklearn classifiers\n",
    "        :param estimator: sklearn classifier object\n",
    "        \"\"\" \n",
    "\n",
    "        self.estimator = estimator\n",
    "    \n",
    "    def fit(self, X, y=None, **kwargs):\n",
    "        self.estimator.fit(X, y)\n",
    "        return self\n",
    "\n",
    "\n",
    "    def predict(self, X, y=None):\n",
    "        return self.estimator.predict(X)\n",
    "\n",
    "\n",
    "    def predict_proba(self, X):\n",
    "        return self.estimator.predict_proba(X)\n",
    "\n",
    "\n",
    "    def score(self, X, y):\n",
    "        return self.estimator.score(X, y)\n",
    "    \n",
    "    def confusion_matrix(self, pred, y_test, target_names):\n",
    "        fig, ax = plt.subplots(figsize=(10, 5))\n",
    "        ConfusionMatrixDisplay.from_predictions(y_test, pred, ax=ax)\n",
    "        ax.xaxis.set_ticklabels(target_names)\n",
    "        ax.yaxis.set_ticklabels(target_names)\n",
    "        _ = ax.set_title(\n",
    "            f\"Confusion Matrix for {self.__class__.__name__}\\non the original documents\"\n",
    "        )"
   ]
  },
  {
   "cell_type": "code",
   "execution_count": 6,
   "metadata": {},
   "outputs": [],
   "source": [
    "def save_rank_models(grid, proc, model):\n",
    "    \"\"\" Saves best model from the grid hyperparameter tuning \"\"\"\n",
    "    results_df = pd.DataFrame(grid.cv_results_)\n",
    "    results_df = results_df.sort_values(by=[\"rank_test_F1\"])\n",
    "    results_df = results_df.set_index(\n",
    "    results_df[\"params\"].apply(lambda x: \"_\".join(str(val) for val in x.values()))\n",
    "    ).rename_axis(\"kernel\")\n",
    "    grid_name = \"results/results_{}_{}.csv\".format(str(proc), str(model))\n",
    "    results_df[\"process\"] = str(proc)\n",
    "    results_df[\"model\"] = str(model)\n",
    "    results_df.to_csv(grid_name)\n",
    "    return results_df[[\"params\", \"rank_test_F1\", \"mean_test_F1\", \"std_test_F1\"]]"
   ]
  },
  {
   "cell_type": "code",
   "execution_count": 7,
   "metadata": {},
   "outputs": [],
   "source": [
    "# Setting hyparameters search space \n",
    "scoring = {\n",
    "           \"F1\": \"f1\",\n",
    "           \"Accuracy\":\"accuracy\",\n",
    "           \"Recall\": \"recall\"\n",
    "           }\n",
    "model_params = {\n",
    "    \"rf\" : [\n",
    "    {\n",
    "        'clf__estimator': [RandomForestClassifier()],\n",
    "        'clf__estimator__n_estimators': [200, 500],\n",
    "        'clf__estimator__max_depth' : [4,5,6,7,8],\n",
    "        'clf__estimator__max_features': ['auto', 'sqrt', 'log2'],\n",
    "        'clf__estimator__criterion': ['gini', 'entropy'],\n",
    "    }\n",
    "],\n",
    "\"mnb\" : [\n",
    "    {\n",
    "        'clf__estimator': [MultinomialNB()],\n",
    "        'clf__estimator__alpha': (1e-2, 1e-3, 1e-1),\n",
    "    }\n",
    "]\n",
    "}"
   ]
  },
  {
   "cell_type": "code",
   "execution_count": 8,
   "metadata": {},
   "outputs": [],
   "source": [
    "pipeline_tf = Pipeline([\n",
    "    (\"vect\", TfidfVectorizer(sublinear_tf=True, min_df=5)),\n",
    "    ('clf', UniversalEstimator())\n",
    "])"
   ]
  },
  {
   "attachments": {},
   "cell_type": "markdown",
   "metadata": {},
   "source": [
    "Test combinations on full data size with different preprocessings, later we will select best models and rerun on data size, text proc and compare it affects performance"
   ]
  },
  {
   "cell_type": "code",
   "execution_count": 9,
   "metadata": {},
   "outputs": [],
   "source": [
    "text_processing = [\"norm_text\", \"text\", \"norm_stops_text\"]\n",
    "df = pd.read_csv(DATA_FILE, header = 0)\n",
    "df = undersample(df)\n",
    "df = shuffle(df)\n",
    "\n",
    "# Iterate over different types of text preprocessing\n",
    "for process in text_processing:\n",
    "    X_train = df[process]\n",
    "    y_train = df[\"label\"]\n",
    "    for model in model_params :\n",
    "        grid = GridSearchCV(pipeline_tf, model_params[model],\n",
    "                scoring=scoring, refit=\"F1\", cv=5, n_jobs=12)\n",
    "        grid.fit(X_train, y_train)\n",
    "        save_rank_models(grid, process, model)\n",
    "        "
   ]
  },
  {
   "attachments": {},
   "cell_type": "markdown",
   "metadata": {},
   "source": [
    "### Performance analysis"
   ]
  },
  {
   "cell_type": "code",
   "execution_count": 33,
   "metadata": {},
   "outputs": [],
   "source": [
    "import re, glob\n",
    "cats = [\"rf\", \"mnb\"]\n",
    "chain = \"|\".join(cats)\n",
    "regex = \"(.*)_({})\".format(chain)\n",
    "r = re.compile(regex)\n",
    "namecat = [ [f, r.match(f).group(2)]  for f in glob.glob1(\"./results\", \"*.csv\")]"
   ]
  },
  {
   "cell_type": "code",
   "execution_count": 34,
   "metadata": {},
   "outputs": [],
   "source": [
    "# Merge all result files by classifier\n",
    "forest_res = (pd.read_csv(\"./results/\"+f) for f in glob.glob1(\"./results\", \"*.csv\") if r.match(f).group(2)==\"rf\")\n",
    "bayes_res = (pd.read_csv(\"./results/\"+f) for f in glob.glob1(\"./results\", \"*.csv\") if r.match(f).group(2)==\"mnb\")"
   ]
  },
  {
   "cell_type": "code",
   "execution_count": 35,
   "metadata": {},
   "outputs": [],
   "source": [
    "rf_df = pd.concat(forest_res, ignore_index=True) \n",
    "by_df = pd.concat(bayes_res, ignore_index=True) "
   ]
  },
  {
   "cell_type": "code",
   "execution_count": 36,
   "metadata": {},
   "outputs": [
    {
     "data": {
      "text/html": [
       "<div>\n",
       "<style scoped>\n",
       "    .dataframe tbody tr th:only-of-type {\n",
       "        vertical-align: middle;\n",
       "    }\n",
       "\n",
       "    .dataframe tbody tr th {\n",
       "        vertical-align: top;\n",
       "    }\n",
       "\n",
       "    .dataframe thead th {\n",
       "        text-align: right;\n",
       "    }\n",
       "</style>\n",
       "<table border=\"1\" class=\"dataframe\">\n",
       "  <thead>\n",
       "    <tr style=\"text-align: right;\">\n",
       "      <th></th>\n",
       "      <th>mean_test_F1</th>\n",
       "      <th>std_test_F1</th>\n",
       "      <th>process</th>\n",
       "      <th>params</th>\n",
       "    </tr>\n",
       "  </thead>\n",
       "  <tbody>\n",
       "    <tr>\n",
       "      <th>0</th>\n",
       "      <td>0.984468</td>\n",
       "      <td>0.015356</td>\n",
       "      <td>text</td>\n",
       "      <td>{'clf__estimator': RandomForestClassifier(crit...</td>\n",
       "    </tr>\n",
       "    <tr>\n",
       "      <th>1</th>\n",
       "      <td>0.984468</td>\n",
       "      <td>0.015356</td>\n",
       "      <td>text</td>\n",
       "      <td>{'clf__estimator': RandomForestClassifier(crit...</td>\n",
       "    </tr>\n",
       "    <tr>\n",
       "      <th>60</th>\n",
       "      <td>0.986999</td>\n",
       "      <td>0.014612</td>\n",
       "      <td>norm_stops_text</td>\n",
       "      <td>{'clf__estimator': RandomForestClassifier(max_...</td>\n",
       "    </tr>\n",
       "    <tr>\n",
       "      <th>61</th>\n",
       "      <td>0.986999</td>\n",
       "      <td>0.014612</td>\n",
       "      <td>norm_stops_text</td>\n",
       "      <td>{'clf__estimator': RandomForestClassifier(max_...</td>\n",
       "    </tr>\n",
       "    <tr>\n",
       "      <th>120</th>\n",
       "      <td>0.986999</td>\n",
       "      <td>0.014612</td>\n",
       "      <td>norm_text</td>\n",
       "      <td>{'clf__estimator': RandomForestClassifier(max_...</td>\n",
       "    </tr>\n",
       "    <tr>\n",
       "      <th>121</th>\n",
       "      <td>0.986999</td>\n",
       "      <td>0.014612</td>\n",
       "      <td>norm_text</td>\n",
       "      <td>{'clf__estimator': RandomForestClassifier(max_...</td>\n",
       "    </tr>\n",
       "    <tr>\n",
       "      <th>122</th>\n",
       "      <td>0.986999</td>\n",
       "      <td>0.014612</td>\n",
       "      <td>norm_text</td>\n",
       "      <td>{'clf__estimator': RandomForestClassifier(max_...</td>\n",
       "    </tr>\n",
       "    <tr>\n",
       "      <th>123</th>\n",
       "      <td>0.986999</td>\n",
       "      <td>0.014612</td>\n",
       "      <td>norm_text</td>\n",
       "      <td>{'clf__estimator': RandomForestClassifier(max_...</td>\n",
       "    </tr>\n",
       "    <tr>\n",
       "      <th>124</th>\n",
       "      <td>0.986999</td>\n",
       "      <td>0.014612</td>\n",
       "      <td>norm_text</td>\n",
       "      <td>{'clf__estimator': RandomForestClassifier(max_...</td>\n",
       "    </tr>\n",
       "    <tr>\n",
       "      <th>125</th>\n",
       "      <td>0.986999</td>\n",
       "      <td>0.014612</td>\n",
       "      <td>norm_text</td>\n",
       "      <td>{'clf__estimator': RandomForestClassifier(max_...</td>\n",
       "    </tr>\n",
       "    <tr>\n",
       "      <th>126</th>\n",
       "      <td>0.986999</td>\n",
       "      <td>0.014612</td>\n",
       "      <td>norm_text</td>\n",
       "      <td>{'clf__estimator': RandomForestClassifier(max_...</td>\n",
       "    </tr>\n",
       "    <tr>\n",
       "      <th>127</th>\n",
       "      <td>0.986999</td>\n",
       "      <td>0.014612</td>\n",
       "      <td>norm_text</td>\n",
       "      <td>{'clf__estimator': RandomForestClassifier(max_...</td>\n",
       "    </tr>\n",
       "    <tr>\n",
       "      <th>128</th>\n",
       "      <td>0.986999</td>\n",
       "      <td>0.014612</td>\n",
       "      <td>norm_text</td>\n",
       "      <td>{'clf__estimator': RandomForestClassifier(max_...</td>\n",
       "    </tr>\n",
       "    <tr>\n",
       "      <th>129</th>\n",
       "      <td>0.986999</td>\n",
       "      <td>0.014612</td>\n",
       "      <td>norm_text</td>\n",
       "      <td>{'clf__estimator': RandomForestClassifier(max_...</td>\n",
       "    </tr>\n",
       "    <tr>\n",
       "      <th>130</th>\n",
       "      <td>0.986999</td>\n",
       "      <td>0.014612</td>\n",
       "      <td>norm_text</td>\n",
       "      <td>{'clf__estimator': RandomForestClassifier(max_...</td>\n",
       "    </tr>\n",
       "    <tr>\n",
       "      <th>131</th>\n",
       "      <td>0.986999</td>\n",
       "      <td>0.014612</td>\n",
       "      <td>norm_text</td>\n",
       "      <td>{'clf__estimator': RandomForestClassifier(max_...</td>\n",
       "    </tr>\n",
       "    <tr>\n",
       "      <th>132</th>\n",
       "      <td>0.986999</td>\n",
       "      <td>0.014612</td>\n",
       "      <td>norm_text</td>\n",
       "      <td>{'clf__estimator': RandomForestClassifier(max_...</td>\n",
       "    </tr>\n",
       "    <tr>\n",
       "      <th>133</th>\n",
       "      <td>0.986999</td>\n",
       "      <td>0.014612</td>\n",
       "      <td>norm_text</td>\n",
       "      <td>{'clf__estimator': RandomForestClassifier(max_...</td>\n",
       "    </tr>\n",
       "  </tbody>\n",
       "</table>\n",
       "</div>"
      ],
      "text/plain": [
       "     mean_test_F1  std_test_F1          process  \\\n",
       "0        0.984468     0.015356             text   \n",
       "1        0.984468     0.015356             text   \n",
       "60       0.986999     0.014612  norm_stops_text   \n",
       "61       0.986999     0.014612  norm_stops_text   \n",
       "120      0.986999     0.014612        norm_text   \n",
       "121      0.986999     0.014612        norm_text   \n",
       "122      0.986999     0.014612        norm_text   \n",
       "123      0.986999     0.014612        norm_text   \n",
       "124      0.986999     0.014612        norm_text   \n",
       "125      0.986999     0.014612        norm_text   \n",
       "126      0.986999     0.014612        norm_text   \n",
       "127      0.986999     0.014612        norm_text   \n",
       "128      0.986999     0.014612        norm_text   \n",
       "129      0.986999     0.014612        norm_text   \n",
       "130      0.986999     0.014612        norm_text   \n",
       "131      0.986999     0.014612        norm_text   \n",
       "132      0.986999     0.014612        norm_text   \n",
       "133      0.986999     0.014612        norm_text   \n",
       "\n",
       "                                                params  \n",
       "0    {'clf__estimator': RandomForestClassifier(crit...  \n",
       "1    {'clf__estimator': RandomForestClassifier(crit...  \n",
       "60   {'clf__estimator': RandomForestClassifier(max_...  \n",
       "61   {'clf__estimator': RandomForestClassifier(max_...  \n",
       "120  {'clf__estimator': RandomForestClassifier(max_...  \n",
       "121  {'clf__estimator': RandomForestClassifier(max_...  \n",
       "122  {'clf__estimator': RandomForestClassifier(max_...  \n",
       "123  {'clf__estimator': RandomForestClassifier(max_...  \n",
       "124  {'clf__estimator': RandomForestClassifier(max_...  \n",
       "125  {'clf__estimator': RandomForestClassifier(max_...  \n",
       "126  {'clf__estimator': RandomForestClassifier(max_...  \n",
       "127  {'clf__estimator': RandomForestClassifier(max_...  \n",
       "128  {'clf__estimator': RandomForestClassifier(max_...  \n",
       "129  {'clf__estimator': RandomForestClassifier(max_...  \n",
       "130  {'clf__estimator': RandomForestClassifier(max_...  \n",
       "131  {'clf__estimator': RandomForestClassifier(max_...  \n",
       "132  {'clf__estimator': RandomForestClassifier(max_...  \n",
       "133  {'clf__estimator': RandomForestClassifier(max_...  "
      ]
     },
     "execution_count": 36,
     "metadata": {},
     "output_type": "execute_result"
    }
   ],
   "source": [
    "# Select among all hyperparamter configuration, the 3 best among the 3 types of preprocessing\n",
    "best_rf = rf_df[rf_df[\"rank_test_F1\"]==1][[\"mean_test_F1\", \"std_test_F1\",\"process\", \"params\"]]\n",
    "best_rf"
   ]
  },
  {
   "cell_type": "code",
   "execution_count": 37,
   "metadata": {},
   "outputs": [
    {
     "data": {
      "text/plain": [
       "[\"{'clf__estimator': RandomForestClassifier(criterion='entropy', max_depth=6, n_estimators=200), 'clf__estimator__criterion': 'entropy', 'clf__estimator__max_depth': 6, 'clf__estimator__max_features': 'auto', 'clf__estimator__n_estimators': 200}\",\n",
       " \"{'clf__estimator': RandomForestClassifier(criterion='entropy', max_depth=6, n_estimators=200), 'clf__estimator__criterion': 'entropy', 'clf__estimator__max_depth': 8, 'clf__estimator__max_features': 'auto', 'clf__estimator__n_estimators': 200}\",\n",
       " \"{'clf__estimator': RandomForestClassifier(max_depth=8, max_features='sqrt', n_estimators=200), 'clf__estimator__criterion': 'entropy', 'clf__estimator__max_depth': 8, 'clf__estimator__max_features': 'auto', 'clf__estimator__n_estimators': 500}\",\n",
       " \"{'clf__estimator': RandomForestClassifier(max_depth=8, max_features='sqrt', n_estimators=200), 'clf__estimator__criterion': 'gini', 'clf__estimator__max_depth': 8, 'clf__estimator__max_features': 'sqrt', 'clf__estimator__n_estimators': 200}\",\n",
       " \"{'clf__estimator': RandomForestClassifier(max_depth=4, n_estimators=200), 'clf__estimator__criterion': 'gini', 'clf__estimator__max_depth': 4, 'clf__estimator__max_features': 'auto', 'clf__estimator__n_estimators': 200}\",\n",
       " \"{'clf__estimator': RandomForestClassifier(max_depth=4, n_estimators=200), 'clf__estimator__criterion': 'entropy', 'clf__estimator__max_depth': 5, 'clf__estimator__max_features': 'sqrt', 'clf__estimator__n_estimators': 500}\",\n",
       " \"{'clf__estimator': RandomForestClassifier(max_depth=4, n_estimators=200), 'clf__estimator__criterion': 'entropy', 'clf__estimator__max_depth': 5, 'clf__estimator__max_features': 'sqrt', 'clf__estimator__n_estimators': 200}\",\n",
       " \"{'clf__estimator': RandomForestClassifier(max_depth=4, n_estimators=200), 'clf__estimator__criterion': 'entropy', 'clf__estimator__max_depth': 5, 'clf__estimator__max_features': 'auto', 'clf__estimator__n_estimators': 200}\",\n",
       " \"{'clf__estimator': RandomForestClassifier(max_depth=4, n_estimators=200), 'clf__estimator__criterion': 'gini', 'clf__estimator__max_depth': 8, 'clf__estimator__max_features': 'sqrt', 'clf__estimator__n_estimators': 500}\",\n",
       " \"{'clf__estimator': RandomForestClassifier(max_depth=4, n_estimators=200), 'clf__estimator__criterion': 'gini', 'clf__estimator__max_depth': 8, 'clf__estimator__max_features': 'auto', 'clf__estimator__n_estimators': 500}\",\n",
       " \"{'clf__estimator': RandomForestClassifier(max_depth=4, n_estimators=200), 'clf__estimator__criterion': 'gini', 'clf__estimator__max_depth': 8, 'clf__estimator__max_features': 'auto', 'clf__estimator__n_estimators': 200}\",\n",
       " \"{'clf__estimator': RandomForestClassifier(max_depth=4, n_estimators=200), 'clf__estimator__criterion': 'entropy', 'clf__estimator__max_depth': 7, 'clf__estimator__max_features': 'auto', 'clf__estimator__n_estimators': 500}\",\n",
       " \"{'clf__estimator': RandomForestClassifier(max_depth=4, n_estimators=200), 'clf__estimator__criterion': 'entropy', 'clf__estimator__max_depth': 7, 'clf__estimator__max_features': 'sqrt', 'clf__estimator__n_estimators': 200}\",\n",
       " \"{'clf__estimator': RandomForestClassifier(max_depth=4, n_estimators=200), 'clf__estimator__criterion': 'gini', 'clf__estimator__max_depth': 6, 'clf__estimator__max_features': 'sqrt', 'clf__estimator__n_estimators': 500}\",\n",
       " \"{'clf__estimator': RandomForestClassifier(max_depth=4, n_estimators=200), 'clf__estimator__criterion': 'gini', 'clf__estimator__max_depth': 7, 'clf__estimator__max_features': 'sqrt', 'clf__estimator__n_estimators': 500}\",\n",
       " \"{'clf__estimator': RandomForestClassifier(max_depth=4, n_estimators=200), 'clf__estimator__criterion': 'entropy', 'clf__estimator__max_depth': 6, 'clf__estimator__max_features': 'auto', 'clf__estimator__n_estimators': 200}\",\n",
       " \"{'clf__estimator': RandomForestClassifier(max_depth=4, n_estimators=200), 'clf__estimator__criterion': 'entropy', 'clf__estimator__max_depth': 8, 'clf__estimator__max_features': 'sqrt', 'clf__estimator__n_estimators': 500}\",\n",
       " \"{'clf__estimator': RandomForestClassifier(max_depth=4, n_estimators=200), 'clf__estimator__criterion': 'entropy', 'clf__estimator__max_depth': 8, 'clf__estimator__max_features': 'auto', 'clf__estimator__n_estimators': 500}\"]"
      ]
     },
     "execution_count": 37,
     "metadata": {},
     "output_type": "execute_result"
    }
   ],
   "source": [
    "best_rf[\"params\"].to_list()"
   ]
  },
  {
   "attachments": {},
   "cell_type": "markdown",
   "metadata": {},
   "source": [
    "We selected the best RandomForestClassifier among the 3 possible preprocessings. We notice that there is no significant change in fscore btw the 3"
   ]
  },
  {
   "cell_type": "code",
   "execution_count": 38,
   "metadata": {},
   "outputs": [
    {
     "data": {
      "text/html": [
       "<div>\n",
       "<style scoped>\n",
       "    .dataframe tbody tr th:only-of-type {\n",
       "        vertical-align: middle;\n",
       "    }\n",
       "\n",
       "    .dataframe tbody tr th {\n",
       "        vertical-align: top;\n",
       "    }\n",
       "\n",
       "    .dataframe thead th {\n",
       "        text-align: right;\n",
       "    }\n",
       "</style>\n",
       "<table border=\"1\" class=\"dataframe\">\n",
       "  <thead>\n",
       "    <tr style=\"text-align: right;\">\n",
       "      <th></th>\n",
       "      <th>mean_test_F1</th>\n",
       "      <th>std_test_F1</th>\n",
       "      <th>process</th>\n",
       "      <th>params</th>\n",
       "    </tr>\n",
       "  </thead>\n",
       "  <tbody>\n",
       "    <tr>\n",
       "      <th>0</th>\n",
       "      <td>0.978782</td>\n",
       "      <td>0.019235</td>\n",
       "      <td>text</td>\n",
       "      <td>{'clf__estimator': MultinomialNB(alpha=0.1), '...</td>\n",
       "    </tr>\n",
       "    <tr>\n",
       "      <th>3</th>\n",
       "      <td>0.981134</td>\n",
       "      <td>0.019492</td>\n",
       "      <td>norm_stops_text</td>\n",
       "      <td>{'clf__estimator': MultinomialNB(alpha=0.1), '...</td>\n",
       "    </tr>\n",
       "    <tr>\n",
       "      <th>6</th>\n",
       "      <td>0.983603</td>\n",
       "      <td>0.020893</td>\n",
       "      <td>norm_text</td>\n",
       "      <td>{'clf__estimator': MultinomialNB(alpha=0.1), '...</td>\n",
       "    </tr>\n",
       "  </tbody>\n",
       "</table>\n",
       "</div>"
      ],
      "text/plain": [
       "   mean_test_F1  std_test_F1          process  \\\n",
       "0      0.978782     0.019235             text   \n",
       "3      0.981134     0.019492  norm_stops_text   \n",
       "6      0.983603     0.020893        norm_text   \n",
       "\n",
       "                                              params  \n",
       "0  {'clf__estimator': MultinomialNB(alpha=0.1), '...  \n",
       "3  {'clf__estimator': MultinomialNB(alpha=0.1), '...  \n",
       "6  {'clf__estimator': MultinomialNB(alpha=0.1), '...  "
      ]
     },
     "execution_count": 38,
     "metadata": {},
     "output_type": "execute_result"
    }
   ],
   "source": [
    "best_mnb = by_df[by_df[\"rank_test_F1\"]==1][[\"mean_test_F1\", \"std_test_F1\",\"process\", \"params\"]]\n",
    "best_mnb"
   ]
  },
  {
   "attachments": {},
   "cell_type": "markdown",
   "metadata": {},
   "source": [
    "For the Multinomial Naive Bayes, we notice that normalisation helped improve the performance"
   ]
  },
  {
   "attachments": {},
   "cell_type": "markdown",
   "metadata": {},
   "source": [
    "We run a test phase on the 3 best models configuration for each of Random Forest and MultinomialNB"
   ]
  },
  {
   "cell_type": "code",
   "execution_count": 52,
   "metadata": {},
   "outputs": [],
   "source": [
    "from sklearn.metrics import confusion_matrix\n",
    "from sklearn.metrics import precision_recall_fscore_support\n",
    "\n",
    "X_train, X_test, y_train, y_test, target_names = load_dataset(DATA_FILE)\n",
    "scoring = {\n",
    "           \"accuracy\":\"accuracy\",\n",
    "           \"F1\": \"f1\"\n",
    "           }\n",
    "\n",
    "def test(res_df):\n",
    "    mats = []\n",
    "    fscores = []\n",
    "    for _, row in res_df.iterrows():\n",
    "            p = eval(row.params)\n",
    "            datatype = row.process\n",
    "            prm = [ { pr:[p[pr]] for pr in p } ]\n",
    "            pipeline_tf = Pipeline([\n",
    "                (\"vect\", TfidfVectorizer(sublinear_tf=True, min_df=15)),\n",
    "                ('clf', UniversalEstimator())\n",
    "            ])               \n",
    "            # we use gridsearch here with one possible combination because it implements kfold training\n",
    "            grid = GridSearchCV(pipeline_tf, prm, cv=5, scoring=scoring, refit=\"F1\", n_jobs=12)\n",
    "            grid.fit(X_train[datatype], y_train)\n",
    "            pred = grid.best_estimator_.predict(X_test[datatype])\n",
    "            precision, recall, fscore, _ = precision_recall_fscore_support(y_test, pred, average='macro')\n",
    "            fscores.append(fscore)\n",
    "            mats.append(confusion_matrix(y_test, pred))\n",
    "    res_df[\"fscore\"] = fscores\n",
    "    res_df[\"matrix\"] = mats\n",
    "    res_df[\"preds\"] = str(list(pred))\n",
    "    return res_df\n",
    "\n",
    "rforests = test(best_rf)\n",
    "    "
   ]
  },
  {
   "cell_type": "code",
   "execution_count": 53,
   "metadata": {},
   "outputs": [],
   "source": [
    "multi_bayes = test(best_mnb)"
   ]
  },
  {
   "cell_type": "code",
   "execution_count": 54,
   "metadata": {},
   "outputs": [
    {
     "data": {
      "text/html": [
       "<div>\n",
       "<style scoped>\n",
       "    .dataframe tbody tr th:only-of-type {\n",
       "        vertical-align: middle;\n",
       "    }\n",
       "\n",
       "    .dataframe tbody tr th {\n",
       "        vertical-align: top;\n",
       "    }\n",
       "\n",
       "    .dataframe thead th {\n",
       "        text-align: right;\n",
       "    }\n",
       "</style>\n",
       "<table border=\"1\" class=\"dataframe\">\n",
       "  <thead>\n",
       "    <tr style=\"text-align: right;\">\n",
       "      <th></th>\n",
       "      <th>mean_test_F1</th>\n",
       "      <th>std_test_F1</th>\n",
       "      <th>process</th>\n",
       "      <th>params</th>\n",
       "      <th>fscore</th>\n",
       "      <th>matrix</th>\n",
       "      <th>preds</th>\n",
       "    </tr>\n",
       "  </thead>\n",
       "  <tbody>\n",
       "    <tr>\n",
       "      <th>0</th>\n",
       "      <td>0.984468</td>\n",
       "      <td>0.015356</td>\n",
       "      <td>text</td>\n",
       "      <td>{'clf__estimator': RandomForestClassifier(crit...</td>\n",
       "      <td>0.972243</td>\n",
       "      <td>[[30, 1], [1, 42]]</td>\n",
       "      <td>[1, 1, 0, 1, 1, 0, 1, 0, 0, 1, 0, 0, 1, 1, 1, ...</td>\n",
       "    </tr>\n",
       "    <tr>\n",
       "      <th>127</th>\n",
       "      <td>0.986999</td>\n",
       "      <td>0.014612</td>\n",
       "      <td>norm_text</td>\n",
       "      <td>{'clf__estimator': RandomForestClassifier(max_...</td>\n",
       "      <td>0.972243</td>\n",
       "      <td>[[30, 1], [1, 42]]</td>\n",
       "      <td>[1, 1, 0, 1, 1, 0, 1, 0, 0, 1, 0, 0, 1, 1, 1, ...</td>\n",
       "    </tr>\n",
       "    <tr>\n",
       "      <th>3</th>\n",
       "      <td>0.981134</td>\n",
       "      <td>0.019492</td>\n",
       "      <td>norm_stops_text</td>\n",
       "      <td>{'clf__estimator': MultinomialNB(alpha=0.1), '...</td>\n",
       "      <td>0.972243</td>\n",
       "      <td>[[30, 1], [1, 42]]</td>\n",
       "      <td>[1, 1, 0, 1, 1, 0, 1, 0, 0, 1, 0, 0, 1, 1, 1, ...</td>\n",
       "    </tr>\n",
       "    <tr>\n",
       "      <th>0</th>\n",
       "      <td>0.978782</td>\n",
       "      <td>0.019235</td>\n",
       "      <td>text</td>\n",
       "      <td>{'clf__estimator': MultinomialNB(alpha=0.1), '...</td>\n",
       "      <td>0.972243</td>\n",
       "      <td>[[30, 1], [1, 42]]</td>\n",
       "      <td>[1, 1, 0, 1, 1, 0, 1, 0, 0, 1, 0, 0, 1, 1, 1, ...</td>\n",
       "    </tr>\n",
       "    <tr>\n",
       "      <th>133</th>\n",
       "      <td>0.986999</td>\n",
       "      <td>0.014612</td>\n",
       "      <td>norm_text</td>\n",
       "      <td>{'clf__estimator': RandomForestClassifier(max_...</td>\n",
       "      <td>0.972243</td>\n",
       "      <td>[[30, 1], [1, 42]]</td>\n",
       "      <td>[1, 1, 0, 1, 1, 0, 1, 0, 0, 1, 0, 0, 1, 1, 1, ...</td>\n",
       "    </tr>\n",
       "  </tbody>\n",
       "</table>\n",
       "</div>"
      ],
      "text/plain": [
       "     mean_test_F1  std_test_F1          process  \\\n",
       "0        0.984468     0.015356             text   \n",
       "127      0.986999     0.014612        norm_text   \n",
       "3        0.981134     0.019492  norm_stops_text   \n",
       "0        0.978782     0.019235             text   \n",
       "133      0.986999     0.014612        norm_text   \n",
       "\n",
       "                                                params    fscore  \\\n",
       "0    {'clf__estimator': RandomForestClassifier(crit...  0.972243   \n",
       "127  {'clf__estimator': RandomForestClassifier(max_...  0.972243   \n",
       "3    {'clf__estimator': MultinomialNB(alpha=0.1), '...  0.972243   \n",
       "0    {'clf__estimator': MultinomialNB(alpha=0.1), '...  0.972243   \n",
       "133  {'clf__estimator': RandomForestClassifier(max_...  0.972243   \n",
       "\n",
       "                 matrix                                              preds  \n",
       "0    [[30, 1], [1, 42]]  [1, 1, 0, 1, 1, 0, 1, 0, 0, 1, 0, 0, 1, 1, 1, ...  \n",
       "127  [[30, 1], [1, 42]]  [1, 1, 0, 1, 1, 0, 1, 0, 0, 1, 0, 0, 1, 1, 1, ...  \n",
       "3    [[30, 1], [1, 42]]  [1, 1, 0, 1, 1, 0, 1, 0, 0, 1, 0, 0, 1, 1, 1, ...  \n",
       "0    [[30, 1], [1, 42]]  [1, 1, 0, 1, 1, 0, 1, 0, 0, 1, 0, 0, 1, 1, 1, ...  \n",
       "133  [[30, 1], [1, 42]]  [1, 1, 0, 1, 1, 0, 1, 0, 0, 1, 0, 0, 1, 1, 1, ...  "
      ]
     },
     "execution_count": 54,
     "metadata": {},
     "output_type": "execute_result"
    }
   ],
   "source": [
    "pd.concat([rforests, multi_bayes]).sort_values(by=[\"fscore\"], ascending=False).head(5)"
   ]
  },
  {
   "attachments": {},
   "cell_type": "markdown",
   "metadata": {},
   "source": [
    "We notice that Multinomial slighlt outperforms RandomForest"
   ]
  },
  {
   "attachments": {},
   "cell_type": "markdown",
   "metadata": {},
   "source": [
    "We select the best model among them"
   ]
  },
  {
   "cell_type": "code",
   "execution_count": 55,
   "metadata": {},
   "outputs": [],
   "source": [
    "best_model = pd.concat([rforests, multi_bayes]).sort_values(by=[\"fscore\"], ascending=False).head(5).iloc[0]"
   ]
  },
  {
   "cell_type": "code",
   "execution_count": 56,
   "metadata": {},
   "outputs": [
    {
     "data": {
      "text/plain": [
       "mean_test_F1                                             0.984468\n",
       "std_test_F1                                              0.015356\n",
       "process                                                      text\n",
       "params          {'clf__estimator': RandomForestClassifier(crit...\n",
       "fscore                                                   0.972243\n",
       "matrix                                         [[30, 1], [1, 42]]\n",
       "preds           [1, 1, 0, 1, 1, 0, 1, 0, 0, 1, 0, 0, 1, 1, 1, ...\n",
       "Name: 0, dtype: object"
      ]
     },
     "execution_count": 56,
     "metadata": {},
     "output_type": "execute_result"
    }
   ],
   "source": [
    "best_model"
   ]
  },
  {
   "attachments": {},
   "cell_type": "markdown",
   "metadata": {},
   "source": [
    "### Data size effect on performance"
   ]
  },
  {
   "cell_type": "code",
   "execution_count": 57,
   "metadata": {},
   "outputs": [],
   "source": [
    "X_test = X_test.reset_index(drop=True)\n",
    "y_test = y_test.reset_index(drop=True)"
   ]
  },
  {
   "attachments": {},
   "cell_type": "markdown",
   "metadata": {},
   "source": [
    "We evaluate the performance of our model when trained on different sizes of data"
   ]
  },
  {
   "cell_type": "code",
   "execution_count": 58,
   "metadata": {},
   "outputs": [
    {
     "name": "stdout",
     "output_type": "stream",
     "text": [
      "(74, 2)\n",
      "0.9722430607651913\n",
      "(148, 2)\n",
      "0.9722430607651913\n",
      "(296, 2)\n",
      "0.9722430607651913\n"
     ]
    }
   ],
   "source": [
    "\n",
    "data_size = [.25, .5, 1]\n",
    "X_train = X_train[\"norm_text\"]\n",
    "results = []\n",
    "for size in data_size:\n",
    "    p = eval(best_model[\"params\"])\n",
    "    datatype = best_model[\"process\"]\n",
    "    prm = [ { pr:[p[pr]] for pr in p } ]\n",
    "    full_data = pd.DataFrame()\n",
    "    full_data = pd.concat([X_train, y_train], axis=1)\n",
    "    full_data = full_data.sample(frac=size)\n",
    "    print(full_data.shape)\n",
    "    y = full_data[\"label\"]\n",
    "    X = full_data[\"norm_text\"]\n",
    "    pipeline_tf = Pipeline([\n",
    "        (\"vect\", TfidfVectorizer(sublinear_tf=True, min_df=15)),\n",
    "        ('clf', UniversalEstimator())\n",
    "    ])\n",
    "    pipeline_tf.fit(X, y)\n",
    "    pred = pipeline_tf.predict(X_test[datatype])\n",
    "    precision, recall, fscore, _ = precision_recall_fscore_support(y_test, pred, average='macro')\n",
    "    print(fscore)\n",
    "    results.append({\"size\" : size, \"precision\": precision, \"recall\": recall, \"fscore\": fscore})\n",
    "\n",
    "data_tests = pd.DataFrame(results)"
   ]
  },
  {
   "cell_type": "code",
   "execution_count": 59,
   "metadata": {},
   "outputs": [
    {
     "data": {
      "text/html": [
       "<div>\n",
       "<style scoped>\n",
       "    .dataframe tbody tr th:only-of-type {\n",
       "        vertical-align: middle;\n",
       "    }\n",
       "\n",
       "    .dataframe tbody tr th {\n",
       "        vertical-align: top;\n",
       "    }\n",
       "\n",
       "    .dataframe thead th {\n",
       "        text-align: right;\n",
       "    }\n",
       "</style>\n",
       "<table border=\"1\" class=\"dataframe\">\n",
       "  <thead>\n",
       "    <tr style=\"text-align: right;\">\n",
       "      <th></th>\n",
       "      <th>size</th>\n",
       "      <th>precision</th>\n",
       "      <th>recall</th>\n",
       "      <th>fscore</th>\n",
       "    </tr>\n",
       "  </thead>\n",
       "  <tbody>\n",
       "    <tr>\n",
       "      <th>0</th>\n",
       "      <td>0.25</td>\n",
       "      <td>0.972243</td>\n",
       "      <td>0.972243</td>\n",
       "      <td>0.972243</td>\n",
       "    </tr>\n",
       "    <tr>\n",
       "      <th>1</th>\n",
       "      <td>0.50</td>\n",
       "      <td>0.972243</td>\n",
       "      <td>0.972243</td>\n",
       "      <td>0.972243</td>\n",
       "    </tr>\n",
       "    <tr>\n",
       "      <th>2</th>\n",
       "      <td>1.00</td>\n",
       "      <td>0.972243</td>\n",
       "      <td>0.972243</td>\n",
       "      <td>0.972243</td>\n",
       "    </tr>\n",
       "  </tbody>\n",
       "</table>\n",
       "</div>"
      ],
      "text/plain": [
       "   size  precision    recall    fscore\n",
       "0  0.25   0.972243  0.972243  0.972243\n",
       "1  0.50   0.972243  0.972243  0.972243\n",
       "2  1.00   0.972243  0.972243  0.972243"
      ]
     },
     "execution_count": 59,
     "metadata": {},
     "output_type": "execute_result"
    }
   ],
   "source": [
    "data_tests"
   ]
  },
  {
   "cell_type": "code",
   "execution_count": 60,
   "metadata": {},
   "outputs": [
    {
     "data": {
      "text/plain": [
       "<AxesSubplot:title={'center':'Grouped Bar Graph of performance metrics on different data sizes'}, xlabel='size'>"
      ]
     },
     "execution_count": 60,
     "metadata": {},
     "output_type": "execute_result"
    },
    {
     "data": {
      "image/png": "[encoded data removed]",
      "text/plain": [
       "<Figure size 640x480 with 1 Axes>"
      ]
     },
     "metadata": {},
     "output_type": "display_data"
    }
   ],
   "source": [
    "data_tests.plot(x='size',\n",
    "        kind='bar',\n",
    "        stacked=False,\n",
    "        title='Grouped Bar Graph of performance metrics on different data sizes')"
   ]
  },
  {
   "attachments": {},
   "cell_type": "markdown",
   "metadata": {},
   "source": [
    "### Explainability"
   ]
  },
  {
   "cell_type": "code",
   "execution_count": 70,
   "metadata": {},
   "outputs": [
    {
     "name": "stdout",
     "output_type": "stream",
     "text": [
      "Akimitsu (written: 右光, 彬光, 昭光 or 顕光) is a masculine Japanese given name. Notable people with the name include: Fujiwara no Akimitsu (藤原 顕光, 944–1021), Japanese noble Ishikawa Akimitsu (石川 昭光, 1550–1622), Japanese samurai Akimitsu Itoh (伊東 昭光, born 1963), Japanese baseball pitcher Akimitsu Takagi (高木 彬光, 1920–1995), Japanese writer Akimitsu Takase (高瀬 右光, born 1970), Japanese voice actor\n",
      "General Sir John Miller Adye (1 November 1819 – 26 August 1900) was a British soldier and amateur artist. Adye was the son of Major James P. Adye, born at Sevenoaks, Kent, on 1 November 1819. He studied at the Royal Military Academy, Woolwich, entered the Royal Artillery in 1836, was promoted to captain in 1846, and served throughout the Crimean War as brigade-major and assistant adjutant-general of artillery (awarded CB, brevets of major and lieutenant-colonel).In the Indian rebellion of 1857 he served on the staff in a similar capacity. Promoted brevet-colonel in 1860, he was specially employed in 1863 in the Northwest frontier of the India campaign, and was Deputy-Adjutant-General, Bengal, from 1863 to 1866, when he returned home. From 1870 to 1875 Adye was Director of Artillery and Stores at the War Office. He was made a KCB in 1873, and was promoted to be major-general and appointed governor of the Royal Military Academy, Woolwich, in 1875, and Surveyor-General of the Ordnance in 1880. In 1882 he was chief of staff and second in command of the expedition to Egypt, and served throughout the campaign (awarded GCB and thanks of Parliament). He was Governor of Gibraltar from 1883 to 1886 where he was noted for his artwork (see below) and in keeping a good balance between the needs of Gibraltar being a military fortress and of the needs of the civilian population to make a living. The military got rooms for recreation and the civilians enjoyed relaxed trade laws. He was appointed Colonel Commandant of the 4th and 26th (Royal Arsenal) Kent Rifle Volunteer Corps and Honorary Colonel of their successor the 3rd Volunteer Battalion, Queen's Own Royal West Kent Regiment. After his retirement in 1886, he unsuccessfully contested Bath in the Liberal interest in 1892.At some time in his career he became good friends with both William Armstrong and Stuart Rendel, so much so that his daughter, Winifreda, married the former's grand-nephew and heir, William Henry Watson-Armstrong in 1889. His other daughter, Evelyn Violet, was to become John Meade Falkner's wife on 18 October 1899. His son, Sir John Adye, would become a major-general. His son, John Adye married Clara Joan Williams in 1899. Adye was also a writer and artist, describing his experiences in such works as A Review of the Crimean War (1859), Sitana: a Mountain Campaign on the Borders of Afghanistan in 1863, and Recollections of A Military Life (1895). His paintings of Gibraltar are available in the Victoria and albert Museum and two of India are in the National Army Museum. John Miller Adye (1860). A Review of the Crimean War to the winter of 1854-5. Hurst and Blackett. Sir General John Miller Adye. Recollections of a Military Life (London: 1895, Smith, Elder & Co.) Works by John Adye at Project Gutenberg Works by or about John Miller Adye at Internet Archive Works by John Miller Adye at LibriVox (public domain audiobooks)\n",
      "Akimitsu (written: 右光, 彬光, 昭光 or 顕光) is a masculine Japanese given name. Notable people with the name include: Fujiwara no Akimitsu (藤原 顕光, 944–1021), Japanese noble Ishikawa Akimitsu (石川 昭光, 1550–1622), Japanese samurai Akimitsu Itoh (伊東 昭光, born 1963), Japanese baseball pitcher Akimitsu Takagi (高木 彬光, 1920–1995), Japanese writer Akimitsu Takase (高瀬 右光, born 1970), Japanese voice actor\n",
      "General Sir John Miller Adye (1 November 1819 – 26 August 1900) was a British soldier and amateur artist. Adye was the son of Major James P. Adye, born at Sevenoaks, Kent, on 1 November 1819. He studied at the Royal Military Academy, Woolwich, entered the Royal Artillery in 1836, was promoted to captain in 1846, and served throughout the Crimean War as brigade-major and assistant adjutant-general of artillery (awarded CB, brevets of major and lieutenant-colonel).In the Indian rebellion of 1857 he served on the staff in a similar capacity. Promoted brevet-colonel in 1860, he was specially employed in 1863 in the Northwest frontier of the India campaign, and was Deputy-Adjutant-General, Bengal, from 1863 to 1866, when he returned home. From 1870 to 1875 Adye was Director of Artillery and Stores at the War Office. He was made a KCB in 1873, and was promoted to be major-general and appointed governor of the Royal Military Academy, Woolwich, in 1875, and Surveyor-General of the Ordnance in 1880. In 1882 he was chief of staff and second in command of the expedition to Egypt, and served throughout the campaign (awarded GCB and thanks of Parliament). He was Governor of Gibraltar from 1883 to 1886 where he was noted for his artwork (see below) and in keeping a good balance between the needs of Gibraltar being a military fortress and of the needs of the civilian population to make a living. The military got rooms for recreation and the civilians enjoyed relaxed trade laws. He was appointed Colonel Commandant of the 4th and 26th (Royal Arsenal) Kent Rifle Volunteer Corps and Honorary Colonel of their successor the 3rd Volunteer Battalion, Queen's Own Royal West Kent Regiment. After his retirement in 1886, he unsuccessfully contested Bath in the Liberal interest in 1892.At some time in his career he became good friends with both William Armstrong and Stuart Rendel, so much so that his daughter, Winifreda, married the former's grand-nephew and heir, William Henry Watson-Armstrong in 1889. His other daughter, Evelyn Violet, was to become John Meade Falkner's wife on 18 October 1899. His son, Sir John Adye, would become a major-general. His son, John Adye married Clara Joan Williams in 1899. Adye was also a writer and artist, describing his experiences in such works as A Review of the Crimean War (1859), Sitana: a Mountain Campaign on the Borders of Afghanistan in 1863, and Recollections of A Military Life (1895). His paintings of Gibraltar are available in the Victoria and albert Museum and two of India are in the National Army Museum. John Miller Adye (1860). A Review of the Crimean War to the winter of 1854-5. Hurst and Blackett. Sir General John Miller Adye. Recollections of a Military Life (London: 1895, Smith, Elder & Co.) Works by John Adye at Project Gutenberg Works by or about John Miller Adye at Internet Archive Works by John Miller Adye at LibriVox (public domain audiobooks)\n",
      "Akimitsu (written: 右光, 彬光, 昭光 or 顕光) is a masculine Japanese given name. Notable people with the name include: Fujiwara no Akimitsu (藤原 顕光, 944–1021), Japanese noble Ishikawa Akimitsu (石川 昭光, 1550–1622), Japanese samurai Akimitsu Itoh (伊東 昭光, born 1963), Japanese baseball pitcher Akimitsu Takagi (高木 彬光, 1920–1995), Japanese writer Akimitsu Takase (高瀬 右光, born 1970), Japanese voice actor\n",
      "General Sir John Miller Adye (1 November 1819 – 26 August 1900) was a British soldier and amateur artist. Adye was the son of Major James P. Adye, born at Sevenoaks, Kent, on 1 November 1819. He studied at the Royal Military Academy, Woolwich, entered the Royal Artillery in 1836, was promoted to captain in 1846, and served throughout the Crimean War as brigade-major and assistant adjutant-general of artillery (awarded CB, brevets of major and lieutenant-colonel).In the Indian rebellion of 1857 he served on the staff in a similar capacity. Promoted brevet-colonel in 1860, he was specially employed in 1863 in the Northwest frontier of the India campaign, and was Deputy-Adjutant-General, Bengal, from 1863 to 1866, when he returned home. From 1870 to 1875 Adye was Director of Artillery and Stores at the War Office. He was made a KCB in 1873, and was promoted to be major-general and appointed governor of the Royal Military Academy, Woolwich, in 1875, and Surveyor-General of the Ordnance in 1880. In 1882 he was chief of staff and second in command of the expedition to Egypt, and served throughout the campaign (awarded GCB and thanks of Parliament). He was Governor of Gibraltar from 1883 to 1886 where he was noted for his artwork (see below) and in keeping a good balance between the needs of Gibraltar being a military fortress and of the needs of the civilian population to make a living. The military got rooms for recreation and the civilians enjoyed relaxed trade laws. He was appointed Colonel Commandant of the 4th and 26th (Royal Arsenal) Kent Rifle Volunteer Corps and Honorary Colonel of their successor the 3rd Volunteer Battalion, Queen's Own Royal West Kent Regiment. After his retirement in 1886, he unsuccessfully contested Bath in the Liberal interest in 1892.At some time in his career he became good friends with both William Armstrong and Stuart Rendel, so much so that his daughter, Winifreda, married the former's grand-nephew and heir, William Henry Watson-Armstrong in 1889. His other daughter, Evelyn Violet, was to become John Meade Falkner's wife on 18 October 1899. His son, Sir John Adye, would become a major-general. His son, John Adye married Clara Joan Williams in 1899. Adye was also a writer and artist, describing his experiences in such works as A Review of the Crimean War (1859), Sitana: a Mountain Campaign on the Borders of Afghanistan in 1863, and Recollections of A Military Life (1895). His paintings of Gibraltar are available in the Victoria and albert Museum and two of India are in the National Army Museum. John Miller Adye (1860). A Review of the Crimean War to the winter of 1854-5. Hurst and Blackett. Sir General John Miller Adye. Recollections of a Military Life (London: 1895, Smith, Elder & Co.) Works by John Adye at Project Gutenberg Works by or about John Miller Adye at Internet Archive Works by John Miller Adye at LibriVox (public domain audiobooks)\n"
     ]
    }
   ],
   "source": [
    "\n",
    "top_models = pd.concat([rforests, multi_bayes]).sort_values(by=[\"fscore\"], ascending=False).head(3)\n",
    "\n",
    "for index, model in top_models.iterrows():\n",
    "    predictions = eval(model[\"preds\"])\n",
    "    X_test = X_test.reset_index(drop=True)\n",
    "    fp = [i for i in range(len(predictions)) if list(y_test)[i] == 0 and predictions[i] == 1]\n",
    "    fn = [i for i in range(len(predictions)) if list(y_test)[i] == 1 and predictions[i] == 0]\n",
    "    for m in fn: print(X_test[\"text\"].iloc[m])\n",
    "    for m in fp: print(X_test[\"text\"].iloc[m])\n",
    "    not_painter = X_test.loc[fp,:]\n",
    "    not_mathematician = X_test.loc[fn,:]\n"
   ]
  },
  {
   "attachments": {},
   "cell_type": "markdown",
   "metadata": {},
   "source": [
    "All 3 models misclassify the same articles, let's have a closer look why?"
   ]
  },
  {
   "attachments": {},
   "cell_type": "markdown",
   "metadata": {},
   "source": [
    "We notice among misclassified texts :\n",
    "\n",
    "- 1 false positive : \n",
    "  - Misclassified because of an issue with data extraction, the scraped page by wikipedia library is of General Sir John Miller Adye (An artist) and should have been of John Adye (a methematician)\n",
    "\n",
    "- 1 false negative:\n",
    "  - Also misclassified because of a data extraction issue, the wikipedia library is returned the page content of the given name Akimitsu\n",
    "  "
   ]
  }
 ],
 "metadata": {
  "kernelspec": {
   "display_name": "dscourse",
   "language": "python",
   "name": "python3"
  },
  "language_info": {
   "codemirror_mode": {
    "name": "ipython",
    "version": 3
   },
   "file_extension": ".py",
   "mimetype": "text/x-python",
   "name": "python",
   "nbconvert_exporter": "python",
   "pygments_lexer": "ipython3",
   "version": "3.7.16"
  },
  "orig_nbformat": 4
 },
 "nbformat": 4,
 "nbformat_minor": 2
}
