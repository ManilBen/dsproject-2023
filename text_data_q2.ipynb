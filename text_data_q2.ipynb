{
 "cells": [
  {
   "cell_type": "code",
   "execution_count": 30,
   "metadata": {},
   "outputs": [],
   "source": [
    "import wikipedia\n",
    "import os\n",
    "\n",
    "\n",
    "def scarpper(src, n): #function to get text from web\n",
    "    count = 0 # counter to count that the loop runs n times only\n",
    "    try:\n",
    "        page = wikipedia.page(src) #wikipedia page for the item\n",
    "        l = page.links #get all links from the page\n",
    "        \n",
    "        for link in l: # loop to extract text and make n text files from these wiki links in the said wikipedia page\n",
    "            if count < n+1:\n",
    "                p = wikipedia.page(title = link)\n",
    "                path = 'C:\\\\Users\\\\Utilisateur\\\\Desktop\\\\NLP NANCY\\\\YEAR 1\\\\Sem 2\\\\ds_project\\\\data_files_q2'\n",
    "                file_name = \"{}.txt\".format(p.title)\n",
    "                complete_path = os.path.join(path, file_name)\n",
    "                with open(complete_path, \"w\", encoding= 'utf-8' ) as text_file: # writing text into text files\n",
    "                    text_file.write(p.summary)\n",
    "                count = count +1    \n",
    "            else:\n",
    "                break    \n",
    "            \n",
    "    except Exception as e:\n",
    "        print(e)\n",
    "        \n",
    "scarpper(\"Jack_Sparrow\", 7)\n",
    "\n"
   ]
  }
 ],
 "metadata": {
  "kernelspec": {
   "display_name": "Python 3.9.12 ('base')",
   "language": "python",
   "name": "python3"
  },
  "language_info": {
   "codemirror_mode": {
    "name": "ipython",
    "version": 3
   },
   "file_extension": ".py",
   "mimetype": "text/x-python",
   "name": "python",
   "nbconvert_exporter": "python",
   "pygments_lexer": "ipython3",
   "version": "3.9.12"
  },
  "orig_nbformat": 4,
  "vscode": {
   "interpreter": {
    "hash": "ad2bdc8ecc057115af97d19610ffacc2b4e99fae6737bb82f5d7fb13d2f2c186"
   }
  }
 },
 "nbformat": 4,
 "nbformat_minor": 2
}
