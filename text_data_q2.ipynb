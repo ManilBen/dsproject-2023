{
 "cells": [
  {
   "cell_type": "code",
   "execution_count": 14,
   "metadata": {},
   "outputs": [
    {
     "name": "stdout",
     "output_type": "stream",
     "text": [
      "('Connection aborted.', ConnectionResetError(10054, 'An existing connection was forcibly closed by the remote host', None, 10054, None))\n"
     ]
    }
   ],
   "source": [
    "# import wptools\n",
    "import string\n",
    "import pandas as pd\n",
    "import numpy as np\n",
    "import wikipedia\n",
    "import requests\n",
    "import re\n",
    "from bs4 import BeautifulSoup\n",
    "import os\n",
    "\n",
    "\n",
    "def scarpper(src, n):\n",
    "    l  = []\n",
    "    count = 0\n",
    "    try:\n",
    "        page = wikipedia.page(src)\n",
    "        l.append(page.links)\n",
    "        # print(l)\n",
    "        \n",
    "        for link in l:\n",
    "            if count < n:\n",
    "                p = wikipedia.page(title = link)\n",
    "                print(p.summary)\n",
    "            else:\n",
    "                break    \n",
    "            count = count +1\n",
    "    except Exception as e:\n",
    "        print(e)\n",
    "        \n",
    "scarpper(\"Mahatma Gandhi\", 7)\n",
    "\n"
   ]
  }
 ],
 "metadata": {
  "kernelspec": {
   "display_name": "Python 3.9.12 ('base')",
   "language": "python",
   "name": "python3"
  },
  "language_info": {
   "codemirror_mode": {
    "name": "ipython",
    "version": 3
   },
   "file_extension": ".py",
   "mimetype": "text/x-python",
   "name": "python",
   "nbconvert_exporter": "python",
   "pygments_lexer": "ipython3",
   "version": "3.9.12"
  },
  "orig_nbformat": 4,
  "vscode": {
   "interpreter": {
    "hash": "ad2bdc8ecc057115af97d19610ffacc2b4e99fae6737bb82f5d7fb13d2f2c186"
   }
  }
 },
 "nbformat": 4,
 "nbformat_minor": 2
}
