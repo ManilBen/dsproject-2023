{
 "cells": [
  {
   "cell_type": "code",
   "execution_count": 3,
   "metadata": {},
   "outputs": [],
   "source": [
    "import wptools\n",
    "import string\n",
    "import pandas as pd\n",
    "import wikipedia\n",
    "from bs4 import BeautifulSoup, SoupStrainer\n",
    "import requests\n",
    "import re\n",
    "\n",
    "\n",
    "def scrapper_math(): #define a function called scrapper to extract data from wikipedia\n",
    "        \n",
    "    # abc = list(string.ascii_uppercase)\n",
    "    # for letter in abc:   \n",
    "        page = requests.get(\"https://en.wikipedia.org/wiki/Wikipedia:WikiProject_Mathematics/List_of_mathematicians_({})\".format('X')) #get the page of mathematicians with names starting from A-Z \n",
    "        soup = BeautifulSoup(page.content, 'html.parser') \n",
    "\n",
    "        # remove all links in the info table on the page\n",
    "        for div in soup.find_all(\"table\", {'class':'sidebar nomobile nowraplinks hlist'}): \n",
    "            div.decompose()\n",
    "\n",
    "        # find all portions in the HTML where the links of mathematicians are present \n",
    "        div = soup.find_all(\"div\", {'id':'mw-content-text'})\n",
    "        for i in div:\n",
    "\n",
    "          link_list = i.find_all(href = re.compile('/wiki')) # create a list with links of all mathematicians on the page\n",
    "        \n",
    "        # extract the content from the corresponding wiki pages of mathematicians using the list created previously\n",
    "        for links in link_list:\n",
    "          try:\n",
    "            page = wikipedia.page(title = re.findall('title=\"(.*)\"' ,str(links))) # create a wiki page object from the list elements\n",
    "            d = {'title': page.title, 'text': str(page.content), 'category': 'mathematics' } # create a dictionary with relevant text content from the wiki page\n",
    "            df = pd.DataFrame(data= d) # laod the data into a pandas df\n",
    "            \n",
    "            display(df)\n",
    "          except:\n",
    "            continue  \n",
    "          \n",
    "scrapper_math()  \n",
    "\n",
    "\n",
    "          \n"
   ]
  }
 ],
 "metadata": {
  "kernelspec": {
   "display_name": "Python 3.9.12 ('base')",
   "language": "python",
   "name": "python3"
  },
  "language_info": {
   "codemirror_mode": {
    "name": "ipython",
    "version": 3
   },
   "file_extension": ".py",
   "mimetype": "text/x-python",
   "name": "python",
   "nbconvert_exporter": "python",
   "pygments_lexer": "ipython3",
   "version": "3.9.12"
  },
  "orig_nbformat": 4,
  "vscode": {
   "interpreter": {
    "hash": "ad2bdc8ecc057115af97d19610ffacc2b4e99fae6737bb82f5d7fb13d2f2c186"
   }
  }
 },
 "nbformat": 4,
 "nbformat_minor": 2
}
